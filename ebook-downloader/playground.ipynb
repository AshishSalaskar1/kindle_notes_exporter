{
 "cells": [
  {
   "cell_type": "code",
   "execution_count": 1,
   "metadata": {},
   "outputs": [],
   "source": [
    "import re\n",
    "import requests\n",
    "from selenium import webdriver\n",
    "from selenium.webdriver.common.keys import Keys\n",
    "from selenium.webdriver.chrome.options import Options\n",
    "\n",
    "from webdriver_manager.chrome import ChromeDriverManager\n",
    "from selenium.webdriver.chrome.service import Service\n",
    "from selenium.webdriver.common.by import By\n",
    "\n",
    "from datetime import datetime\n",
    "import dateutil"
   ]
  },
  {
   "cell_type": "code",
   "execution_count": 124,
   "metadata": {},
   "outputs": [],
   "source": [
    "home_url = \"https://libgen.is\"\n",
    "view_type = \"simple\"\n",
    "search_term = \"chetan bhagat\" \n",
    "res_per_page = 25\n",
    "col_type= \"default\"\n",
    "lg_topic = \"libgen\"\n",
    "main_url = f\"https://libgen.is/search.php?req={'+'.join(search_term.split())}&lg_topic={lg_topic}&open=0&view={view_type}&res={res_per_page}&phrase=1&column=def\""
   ]
  },
  {
   "cell_type": "code",
   "execution_count": 249,
   "metadata": {},
   "outputs": [],
   "source": [
    "class Book:\n",
    "    def __init__(self, data):\n",
    "        self.author = data[\"author\"]\n",
    "        self.name = data[\"book_name\"]\n",
    "        self.author = data[\"author\"]\n",
    "        self.extension = data[\"extension\"]\n",
    "        self.links = data[\"download_links\"]\n",
    "        self.year = data[\"year\"]\n",
    "\n",
    "    def __str__(self):\n",
    "        return f\"{self.name} | {self.author} | {self.year} | {self.extension} \""
   ]
  },
  {
   "cell_type": "code",
   "execution_count": 125,
   "metadata": {},
   "outputs": [
    {
     "data": {
      "text/plain": [
       "'https://libgen.is/search.php?req=chetan+bhagat&lg_topic=libgen&open=0&view=simple&res=25&phrase=1&column=def'"
      ]
     },
     "execution_count": 125,
     "metadata": {},
     "output_type": "execute_result"
    }
   ],
   "source": [
    "main_url"
   ]
  },
  {
   "cell_type": "markdown",
   "metadata": {},
   "source": [
    "#### Selenium Part"
   ]
  },
  {
   "cell_type": "code",
   "execution_count": 115,
   "metadata": {},
   "outputs": [],
   "source": [
    "class SeleniumConnect:\n",
    "    def __init__(self) -> None:\n",
    "        try:\n",
    "            user_agent = 'Mozilla/5.0 (X11; Linux x86_64) AppleWebKit/537.36 (KHTML, like Gecko) Chrome/60.0.3112.50 Safari/537.36'\n",
    "            chrome_options = Options()\n",
    "            # chrome_options.add_argument('headless')\n",
    "            chrome_options.add_argument(f'user-agent={user_agent}')\n",
    "            # chrome_options.headless = False\n",
    "\n",
    "            s = Service('C:/chromedriver.exe')\n",
    "            self.driver = webdriver.Chrome('C:/chromedriver.exe', options=chrome_options)\n",
    "        except Exception as e:\n",
    "            print(str(e))\n",
    "    \n",
    "    def test(self):\n",
    "        self.driver.get(\"https://www.python.org\")\n",
    "\n"
   ]
  },
  {
   "cell_type": "code",
   "execution_count": 244,
   "metadata": {},
   "outputs": [
    {
     "name": "stderr",
     "output_type": "stream",
     "text": [
      "C:\\Users\\ashis\\AppData\\Local\\Temp/ipykernel_3220/1993927682.py:7: DeprecationWarning: executable_path has been deprecated, please pass in a Service object\n",
      "  driver = webdriver.Chrome('C:/chromedriver.exe', options=chrome_options)\n"
     ]
    }
   ],
   "source": [
    "user_agent = 'Mozilla/5.0 (X11; Linux x86_64) AppleWebKit/537.36 (KHTML, like Gecko) Chrome/60.0.3112.50 Safari/537.36'\n",
    "chrome_options = Options()\n",
    "# chrome_options.add_argument('headless')\n",
    "chrome_options.add_argument(f'user-agent={user_agent}')\n",
    "\n",
    "s = Service('C:/chromedriver.exe')\n",
    "driver = webdriver.Chrome('C:/chromedriver.exe', options=chrome_options)"
   ]
  },
  {
   "cell_type": "code",
   "execution_count": 245,
   "metadata": {},
   "outputs": [],
   "source": [
    "driver.get(main_url)"
   ]
  },
  {
   "cell_type": "code",
   "execution_count": 261,
   "metadata": {},
   "outputs": [
    {
     "data": {
      "text/plain": [
       "'<a href=\"book/index.php?md5=314A7B0EC2AA07285D0F73FB9D10B21F\" title=\"\" id=\"1195512\">What Young India Wants: Selected Non-Fiction<br> <font face=\"Times\" color=\"green\"><i>1476769990, 9788129120212</i></font></a>'"
      ]
     },
     "execution_count": 261,
     "metadata": {},
     "output_type": "execute_result"
    }
   ],
   "source": [
    "book_rows[3].find_elements(By.CSS_SELECTOR, \"td\")[2].get_attribute('innerHTML')"
   ]
  },
  {
   "cell_type": "code",
   "execution_count": 257,
   "metadata": {},
   "outputs": [
    {
     "name": "stdout",
     "output_type": "stream",
     "text": [
      "The 3 (Three) Mistakes of My Life\n",
      "One Night at the Call Center\n",
      "Revolution 2020\n",
      "What Young India Wants: Selected Non-Fiction\n",
      "1476769990, 9788129120212\n",
      "Three Mistakes of My Life\n",
      "The 3\n",
      "8129113724\n",
      "What Young India Wants: Selected Non-Fiction\n",
      "8129120216, 9788129120212\n",
      "Half Girlfriend [3rd ed.]\n",
      "8129135728, 9788129135728\n",
      "Making India Awesome - New Essays and columns [1st ed.]\n",
      "8129137429, 9788129137425\n",
      "One Indian Girl\n",
      "9781477809235\n",
      "The 3 Mistakes of My Life\n",
      "Five Point Someone\n",
      "Half Girlfriend\n",
      "The Girl in Room 105\n",
      "The Girl in Room 105\n",
      "The Girl in Room 105 [Paperback ed.]\n",
      "1542040469, 9781542040464\n",
      "India Positive: New Essays and Selected Columns\n",
      "1542044162, 9781542044165\n",
      "Making India Awesome\n",
      "9781503987371\n",
      "Five Point Someone\n",
      "9788129121387\n",
      "The Girl in Room 105\n",
      "9781542040464, 1542040469\n",
      "Five Point Someone\n",
      "9781503987715\n",
      "India Positive: New Essays and Selected Columns\n",
      "9781542044165, 1542044162\n",
      "Love & Marriage\n",
      "9781386659945, 1386659940\n",
      "Making India awesome: new essays & columns\n",
      "9788129137425, 8129137429\n",
      "One Indian Girl\n",
      "9781477809235, 9788129142146\n",
      "One Night @ the Call Center\n",
      "9781503987999\n"
     ]
    }
   ],
   "source": [
    "tables = driver.find_elements(By.TAG_NAME, \"TABLE\")\n",
    "table = tables[3]\n",
    "rows = table.find_elements(By.CSS_SELECTOR, \"tr\")\n",
    "header = rows[0]\n",
    "\n",
    "book_rows = rows[1:]\n",
    "books = []\n",
    "\n",
    "for book_row in book_rows:\n",
    "\n",
    "    author = book_row.find_elements(By.CSS_SELECTOR, \"td\")[1].text\n",
    "    book_name = book_row.find_elements(By.CSS_SELECTOR, \"td\")[2].text.strip()\n",
    "    print(book_name)\n",
    "    try:\n",
    "        year = int(book_row.find_elements(By.CSS_SELECTOR, \"td\")[4].text.strip().split(\" \")[-1])\n",
    "    except Exception as e:\n",
    "        year = 0\n",
    "    extension = book_row.find_elements(By.CSS_SELECTOR, \"td\")[8].text.split(\" \")[-1]\n",
    "\n",
    "    # mirror links \n",
    "    download_links = []\n",
    "    for row in book_row.find_elements(By.CSS_SELECTOR, \"td\")[9:-1]:\n",
    "        download_links.append(row.find_element(By.TAG_NAME, \"a\").get_attribute('href'))\n",
    "\n",
    "    book_obj = Book({\n",
    "        \"book_name\": book_name, \"author\": author, \"year\": year,\n",
    "        \"extension\": extension, \"download_links\": download_links\n",
    "    })\n",
    "\n",
    "    books.append(book_obj)\n",
    "\n"
   ]
  },
  {
   "cell_type": "code",
   "execution_count": 256,
   "metadata": {},
   "outputs": [
    {
     "name": "stdout",
     "output_type": "stream",
     "text": [
      "What Young India Wants: Selected Non-Fiction\n",
      "1476769990, 9788129120212 | Chetan Bhagat | 2012 | epub  \n",
      "\n",
      "What Young India Wants: Selected Non-Fiction\n",
      "8129120216, 9788129120212 | Chetan Bhagat | 2012 | epub  \n",
      "\n",
      "Making India Awesome - New Essays and columns [1st ed.]\n",
      "8129137429, 9788129137425 | Chetan Bhagat | 2015 | epub  \n",
      "\n",
      "One Indian Girl\n",
      "9781477809235 | Chetan Bhagat | 2016 | epub  \n",
      "\n",
      "The 3 Mistakes of My Life | Chetan Bhagat | 2015 | epub  \n",
      "\n",
      "Five Point Someone | Chetan Bhagat [Bhagat, Chetan] | 2015 | epub  \n",
      "\n",
      "Half Girlfriend | Chetan Bhagat | 2015 | epub  \n",
      "\n",
      "The Girl in Room 105 | Chetan Bhagat | 2018 | epub  \n",
      "\n",
      "The Girl in Room 105 [Paperback ed.]\n",
      "1542040469, 9781542040464 | Chetan Bhagat | 2018 | epub  \n",
      "\n",
      "India Positive: New Essays and Selected Columns\n",
      "1542044162, 9781542044165 | Chetan Bhagat | 2019 | epub  \n",
      "\n",
      "Making India Awesome\n",
      "9781503987371 | Chetan Bhagat | 2015 | epub  \n",
      "\n",
      "Five Point Someone\n",
      "9788129121387 | Chetan Bhagat | 2013 | epub  \n",
      "\n",
      "The Girl in Room 105\n",
      "9781542040464, 1542040469 | Bhagat, Chetan | 2018 | epub  \n",
      "\n",
      "India Positive: New Essays and Selected Columns\n",
      "9781542044165, 1542044162 | Bhagat, Chetan | 2019 | epub  \n",
      "\n",
      "Love & Marriage\n",
      "9781386659945, 1386659940 | Bhagat, Chetan | 2017 | epub  \n",
      "\n"
     ]
    }
   ],
   "source": [
    "for book in books:\n",
    "    if book.extension != \"epub\":\n",
    "        continue\n",
    "    print(book,\"\\n\")"
   ]
  },
  {
   "cell_type": "code",
   "execution_count": 231,
   "metadata": {},
   "outputs": [
    {
     "data": {
      "text/plain": [
       "2008"
      ]
     },
     "execution_count": 231,
     "metadata": {},
     "output_type": "execute_result"
    }
   ],
   "source": []
  },
  {
   "cell_type": "code",
   "execution_count": null,
   "metadata": {},
   "outputs": [],
   "source": []
  },
  {
   "cell_type": "code",
   "execution_count": 217,
   "metadata": {},
   "outputs": [],
   "source": []
  },
  {
   "cell_type": "code",
   "execution_count": 219,
   "metadata": {},
   "outputs": [],
   "source": []
  },
  {
   "cell_type": "code",
   "execution_count": 220,
   "metadata": {},
   "outputs": [
    {
     "data": {
      "text/plain": [
       "<__main__.Book at 0x21ae51399d0>"
      ]
     },
     "execution_count": 220,
     "metadata": {},
     "output_type": "execute_result"
    }
   ],
   "source": []
  },
  {
   "cell_type": "code",
   "execution_count": null,
   "metadata": {},
   "outputs": [],
   "source": []
  }
 ],
 "metadata": {
  "kernelspec": {
   "display_name": "Python 3.9.7 ('base')",
   "language": "python",
   "name": "python3"
  },
  "language_info": {
   "codemirror_mode": {
    "name": "ipython",
    "version": 3
   },
   "file_extension": ".py",
   "mimetype": "text/x-python",
   "name": "python",
   "nbconvert_exporter": "python",
   "pygments_lexer": "ipython3",
   "version": "3.9.7"
  },
  "orig_nbformat": 4,
  "vscode": {
   "interpreter": {
    "hash": "ad2bdc8ecc057115af97d19610ffacc2b4e99fae6737bb82f5d7fb13d2f2c186"
   }
  }
 },
 "nbformat": 4,
 "nbformat_minor": 2
}
